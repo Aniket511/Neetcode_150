{
 "cells": [
  {
   "cell_type": "code",
   "execution_count": 25,
   "metadata": {},
   "outputs": [],
   "source": [
    "# Array\n",
    "class Solution:\n",
    "    def firstMissingPositive(self, nums: list[int]) -> int:\n",
    "        idx = 0\n",
    "        while idx < len(nums):\n",
    "            idx_2 = nums[idx] - 1\n",
    "            if nums[idx] < len(nums) and nums[idx] > 0 and nums[idx] != nums[idx_2]:\n",
    "                nums[idx], nums[idx_2] = nums[idx_2], nums[idx]\n",
    "            else:\n",
    "                idx += 1\n",
    "        for idx in range(len(nums)):\n",
    "            if nums[idx] != idx + 1:\n",
    "                return idx + 1\n",
    "        return len(nums) + 1"
   ]
  },
  {
   "cell_type": "code",
   "execution_count": 28,
   "metadata": {},
   "outputs": [],
   "source": [
    "# Two Pointer\n",
    "class Solution:\n",
    "    def firstMissingPositive(self, nums: list[int]) -> int:\n",
    "        left = 0\n",
    "        right = len(nums)\n",
    "        while left < right:\n",
    "            if nums[left] == left + 1:\n",
    "                left += 1\n",
    "            elif (\n",
    "                nums[left] > right or\n",
    "                nums[left] <= left or\n",
    "                nums[nums[left] - 1] == nums[left]\n",
    "            ):\n",
    "                right -= 1\n",
    "                nums[left], nums[right] = nums[right], nums[left]\n",
    "            else:\n",
    "                nums[nums[left] - 1], nums[left] = nums[left], nums[nums[left] - 1]\n",
    "\n",
    "        return left + 1"
   ]
  },
  {
   "cell_type": "code",
   "execution_count": 29,
   "metadata": {},
   "outputs": [
    {
     "name": "stdout",
     "output_type": "stream",
     "text": [
      "Test Case 1: Pass (Expected 5, Got 5)\n",
      "Test Case 2: Pass (Expected 5, Got 5)\n",
      "Test Case 3: Pass (Expected 1001, Got 1001)\n",
      "Test Case 4: Pass (Expected 1, Got 1)\n",
      "Test Case 5: Pass (Expected 1, Got 1)\n",
      "Test Case 6: Pass (Expected 5, Got 5)\n"
     ]
    }
   ],
   "source": [
    "test_cases = [\n",
    "    ([1, 2, 3, 4], 5),\n",
    "    ([4, 3, 2, 1, 2], 5),\n",
    "    ([_ for _ in range(-1000,1001)] + [-23], 1001),\n",
    "    ([2], 1),\n",
    "    ([2, 2, 2, 2, 2], 1),\n",
    "    ([1,1,1,3,3,4,3,2,4,2], 5)\n",
    "]\n",
    "\n",
    "solution = Solution()\n",
    "for idx, (nums, expected) in enumerate(test_cases):\n",
    "    result = solution.firstMissingPositive(nums)\n",
    "    print(f\"Test Case {idx + 1}: {'Pass' if result == expected else 'Fail'} (Expected {expected}, Got {result})\")  "
   ]
  },
  {
   "cell_type": "code",
   "execution_count": null,
   "metadata": {},
   "outputs": [],
   "source": []
  }
 ],
 "metadata": {
  "kernelspec": {
   "display_name": "Python 3",
   "language": "python",
   "name": "python3"
  },
  "language_info": {
   "codemirror_mode": {
    "name": "ipython",
    "version": 3
   },
   "file_extension": ".py",
   "mimetype": "text/x-python",
   "name": "python",
   "nbconvert_exporter": "python",
   "pygments_lexer": "ipython3",
   "version": "3.12.3"
  }
 },
 "nbformat": 4,
 "nbformat_minor": 2
}
